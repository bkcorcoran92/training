{
  "cells": [
    {
      "metadata": {
        "_uuid": "14728701414e3d032aefc02f7c3c54316c5ed12b"
      },
      "cell_type": "markdown",
      "source": "# Titanic Classification...."
    },
    {
      "metadata": {
        "_uuid": "8f2839f25d086af736a60e9eeb907d3b93b6e0e5",
        "_cell_guid": "b1076dfc-b9ad-4769-8c92-a6c4dae69d19",
        "trusted": true,
        "scrolled": false
      },
      "cell_type": "code",
      "source": "import numpy as np\nimport pandas as pd\nimport seaborn as sns\nimport matplotlib.pyplot as plt\nfrom sklearn.model_selection import train_test_split\nfrom sklearn.tree import DecisionTreeClassifier\nfrom sklearn.metrics import classification_report, confusion_matrix  \nfrom sklearn import tree\nimport graphviz\n\n#import os\n\n#print(os.listdir(\"../input\"))\n\ndata = pd.read_csv(\"../input/train.csv\")\ndata.columns = [x.lower() for x in data.columns]\n#testdata = pd.read_csv(\"../input/test.csv\")\n#testdata.columns = [x.lower() for x in testdata.columns]\n#dftest = pd.DataFrame(testdata)\ndf = pd.DataFrame(data)\ndf.head()",
      "execution_count": 1,
      "outputs": [
        {
          "output_type": "execute_result",
          "execution_count": 1,
          "data": {
            "text/plain": "   passengerid  survived  pclass    ...        fare cabin  embarked\n0            1         0       3    ...      7.2500   NaN         S\n1            2         1       1    ...     71.2833   C85         C\n2            3         1       3    ...      7.9250   NaN         S\n3            4         1       1    ...     53.1000  C123         S\n4            5         0       3    ...      8.0500   NaN         S\n\n[5 rows x 12 columns]",
            "text/html": "<div>\n<style scoped>\n    .dataframe tbody tr th:only-of-type {\n        vertical-align: middle;\n    }\n\n    .dataframe tbody tr th {\n        vertical-align: top;\n    }\n\n    .dataframe thead th {\n        text-align: right;\n    }\n</style>\n<table border=\"1\" class=\"dataframe\">\n  <thead>\n    <tr style=\"text-align: right;\">\n      <th></th>\n      <th>passengerid</th>\n      <th>survived</th>\n      <th>pclass</th>\n      <th>name</th>\n      <th>sex</th>\n      <th>age</th>\n      <th>sibsp</th>\n      <th>parch</th>\n      <th>ticket</th>\n      <th>fare</th>\n      <th>cabin</th>\n      <th>embarked</th>\n    </tr>\n  </thead>\n  <tbody>\n    <tr>\n      <th>0</th>\n      <td>1</td>\n      <td>0</td>\n      <td>3</td>\n      <td>Braund, Mr. Owen Harris</td>\n      <td>male</td>\n      <td>22.0</td>\n      <td>1</td>\n      <td>0</td>\n      <td>A/5 21171</td>\n      <td>7.2500</td>\n      <td>NaN</td>\n      <td>S</td>\n    </tr>\n    <tr>\n      <th>1</th>\n      <td>2</td>\n      <td>1</td>\n      <td>1</td>\n      <td>Cumings, Mrs. John Bradley (Florence Briggs Th...</td>\n      <td>female</td>\n      <td>38.0</td>\n      <td>1</td>\n      <td>0</td>\n      <td>PC 17599</td>\n      <td>71.2833</td>\n      <td>C85</td>\n      <td>C</td>\n    </tr>\n    <tr>\n      <th>2</th>\n      <td>3</td>\n      <td>1</td>\n      <td>3</td>\n      <td>Heikkinen, Miss. Laina</td>\n      <td>female</td>\n      <td>26.0</td>\n      <td>0</td>\n      <td>0</td>\n      <td>STON/O2. 3101282</td>\n      <td>7.9250</td>\n      <td>NaN</td>\n      <td>S</td>\n    </tr>\n    <tr>\n      <th>3</th>\n      <td>4</td>\n      <td>1</td>\n      <td>1</td>\n      <td>Futrelle, Mrs. Jacques Heath (Lily May Peel)</td>\n      <td>female</td>\n      <td>35.0</td>\n      <td>1</td>\n      <td>0</td>\n      <td>113803</td>\n      <td>53.1000</td>\n      <td>C123</td>\n      <td>S</td>\n    </tr>\n    <tr>\n      <th>4</th>\n      <td>5</td>\n      <td>0</td>\n      <td>3</td>\n      <td>Allen, Mr. William Henry</td>\n      <td>male</td>\n      <td>35.0</td>\n      <td>0</td>\n      <td>0</td>\n      <td>373450</td>\n      <td>8.0500</td>\n      <td>NaN</td>\n      <td>S</td>\n    </tr>\n  </tbody>\n</table>\n</div>"
          },
          "metadata": {}
        }
      ]
    },
    {
      "metadata": {
        "_uuid": "49644ee18879a309a30eaa883d1e6bc525dd70be"
      },
      "cell_type": "markdown",
      "source": "# Clean Data\n* Learning to use get dummies was awesome....\n* Added df.fillna to handle errors\n\n"
    },
    {
      "metadata": {
        "trusted": true,
        "_uuid": "5a6c5262874f5a374ae64e316a1b8feefa888867",
        "scrolled": true
      },
      "cell_type": "code",
      "source": "df2 = pd.get_dummies(data=df, columns=['embarked', 'pclass', 'sex'])\ndf2.drop(columns=['name', 'ticket', 'passengerid', 'cabin'], inplace=True)\ndf2.fillna(df2.mean(), inplace=True)\ndf2.corr()",
      "execution_count": 2,
      "outputs": [
        {
          "output_type": "execute_result",
          "execution_count": 2,
          "data": {
            "text/plain": "            survived       age    ...     sex_female  sex_male\nsurvived    1.000000 -0.069809    ...       0.543351 -0.543351\nage        -0.069809  1.000000    ...      -0.084153  0.084153\nsibsp      -0.035322 -0.232625    ...       0.114631 -0.114631\nparch       0.081629 -0.179191    ...       0.245489 -0.245489\nfare        0.257307  0.091566    ...       0.182333 -0.182333\nembarked_C  0.168240  0.032024    ...       0.082853 -0.082853\nembarked_Q  0.003650 -0.013855    ...       0.074115 -0.074115\nembarked_S -0.155660 -0.027121    ...      -0.125722  0.125722\npclass_1    0.285904  0.319916    ...       0.098013 -0.098013\npclass_2    0.093349  0.006589    ...       0.064746 -0.064746\npclass_3   -0.322308 -0.281004    ...      -0.137143  0.137143\nsex_female  0.543351 -0.084153    ...       1.000000 -1.000000\nsex_male   -0.543351  0.084153    ...      -1.000000  1.000000\n\n[13 rows x 13 columns]",
            "text/html": "<div>\n<style scoped>\n    .dataframe tbody tr th:only-of-type {\n        vertical-align: middle;\n    }\n\n    .dataframe tbody tr th {\n        vertical-align: top;\n    }\n\n    .dataframe thead th {\n        text-align: right;\n    }\n</style>\n<table border=\"1\" class=\"dataframe\">\n  <thead>\n    <tr style=\"text-align: right;\">\n      <th></th>\n      <th>survived</th>\n      <th>age</th>\n      <th>sibsp</th>\n      <th>parch</th>\n      <th>fare</th>\n      <th>embarked_C</th>\n      <th>embarked_Q</th>\n      <th>embarked_S</th>\n      <th>pclass_1</th>\n      <th>pclass_2</th>\n      <th>pclass_3</th>\n      <th>sex_female</th>\n      <th>sex_male</th>\n    </tr>\n  </thead>\n  <tbody>\n    <tr>\n      <th>survived</th>\n      <td>1.000000</td>\n      <td>-0.069809</td>\n      <td>-0.035322</td>\n      <td>0.081629</td>\n      <td>0.257307</td>\n      <td>0.168240</td>\n      <td>0.003650</td>\n      <td>-0.155660</td>\n      <td>0.285904</td>\n      <td>0.093349</td>\n      <td>-0.322308</td>\n      <td>0.543351</td>\n      <td>-0.543351</td>\n    </tr>\n    <tr>\n      <th>age</th>\n      <td>-0.069809</td>\n      <td>1.000000</td>\n      <td>-0.232625</td>\n      <td>-0.179191</td>\n      <td>0.091566</td>\n      <td>0.032024</td>\n      <td>-0.013855</td>\n      <td>-0.027121</td>\n      <td>0.319916</td>\n      <td>0.006589</td>\n      <td>-0.281004</td>\n      <td>-0.084153</td>\n      <td>0.084153</td>\n    </tr>\n    <tr>\n      <th>sibsp</th>\n      <td>-0.035322</td>\n      <td>-0.232625</td>\n      <td>1.000000</td>\n      <td>0.414838</td>\n      <td>0.159651</td>\n      <td>-0.059528</td>\n      <td>-0.026354</td>\n      <td>0.070941</td>\n      <td>-0.054582</td>\n      <td>-0.055932</td>\n      <td>0.092548</td>\n      <td>0.114631</td>\n      <td>-0.114631</td>\n    </tr>\n    <tr>\n      <th>parch</th>\n      <td>0.081629</td>\n      <td>-0.179191</td>\n      <td>0.414838</td>\n      <td>1.000000</td>\n      <td>0.216225</td>\n      <td>-0.011069</td>\n      <td>-0.081228</td>\n      <td>0.063036</td>\n      <td>-0.017633</td>\n      <td>-0.000734</td>\n      <td>0.015790</td>\n      <td>0.245489</td>\n      <td>-0.245489</td>\n    </tr>\n    <tr>\n      <th>fare</th>\n      <td>0.257307</td>\n      <td>0.091566</td>\n      <td>0.159651</td>\n      <td>0.216225</td>\n      <td>1.000000</td>\n      <td>0.269335</td>\n      <td>-0.117216</td>\n      <td>-0.166603</td>\n      <td>0.591711</td>\n      <td>-0.118557</td>\n      <td>-0.413333</td>\n      <td>0.182333</td>\n      <td>-0.182333</td>\n    </tr>\n    <tr>\n      <th>embarked_C</th>\n      <td>0.168240</td>\n      <td>0.032024</td>\n      <td>-0.059528</td>\n      <td>-0.011069</td>\n      <td>0.269335</td>\n      <td>1.000000</td>\n      <td>-0.148258</td>\n      <td>-0.778359</td>\n      <td>0.296423</td>\n      <td>-0.125416</td>\n      <td>-0.153329</td>\n      <td>0.082853</td>\n      <td>-0.082853</td>\n    </tr>\n    <tr>\n      <th>embarked_Q</th>\n      <td>0.003650</td>\n      <td>-0.013855</td>\n      <td>-0.026354</td>\n      <td>-0.081228</td>\n      <td>-0.117216</td>\n      <td>-0.148258</td>\n      <td>1.000000</td>\n      <td>-0.496624</td>\n      <td>-0.155342</td>\n      <td>-0.127301</td>\n      <td>0.237449</td>\n      <td>0.074115</td>\n      <td>-0.074115</td>\n    </tr>\n    <tr>\n      <th>embarked_S</th>\n      <td>-0.155660</td>\n      <td>-0.027121</td>\n      <td>0.070941</td>\n      <td>0.063036</td>\n      <td>-0.166603</td>\n      <td>-0.778359</td>\n      <td>-0.496624</td>\n      <td>1.000000</td>\n      <td>-0.170379</td>\n      <td>0.192061</td>\n      <td>-0.009511</td>\n      <td>-0.125722</td>\n      <td>0.125722</td>\n    </tr>\n    <tr>\n      <th>pclass_1</th>\n      <td>0.285904</td>\n      <td>0.319916</td>\n      <td>-0.054582</td>\n      <td>-0.017633</td>\n      <td>0.591711</td>\n      <td>0.296423</td>\n      <td>-0.155342</td>\n      <td>-0.170379</td>\n      <td>1.000000</td>\n      <td>-0.288585</td>\n      <td>-0.626738</td>\n      <td>0.098013</td>\n      <td>-0.098013</td>\n    </tr>\n    <tr>\n      <th>pclass_2</th>\n      <td>0.093349</td>\n      <td>0.006589</td>\n      <td>-0.055932</td>\n      <td>-0.000734</td>\n      <td>-0.118557</td>\n      <td>-0.125416</td>\n      <td>-0.127301</td>\n      <td>0.192061</td>\n      <td>-0.288585</td>\n      <td>1.000000</td>\n      <td>-0.565210</td>\n      <td>0.064746</td>\n      <td>-0.064746</td>\n    </tr>\n    <tr>\n      <th>pclass_3</th>\n      <td>-0.322308</td>\n      <td>-0.281004</td>\n      <td>0.092548</td>\n      <td>0.015790</td>\n      <td>-0.413333</td>\n      <td>-0.153329</td>\n      <td>0.237449</td>\n      <td>-0.009511</td>\n      <td>-0.626738</td>\n      <td>-0.565210</td>\n      <td>1.000000</td>\n      <td>-0.137143</td>\n      <td>0.137143</td>\n    </tr>\n    <tr>\n      <th>sex_female</th>\n      <td>0.543351</td>\n      <td>-0.084153</td>\n      <td>0.114631</td>\n      <td>0.245489</td>\n      <td>0.182333</td>\n      <td>0.082853</td>\n      <td>0.074115</td>\n      <td>-0.125722</td>\n      <td>0.098013</td>\n      <td>0.064746</td>\n      <td>-0.137143</td>\n      <td>1.000000</td>\n      <td>-1.000000</td>\n    </tr>\n    <tr>\n      <th>sex_male</th>\n      <td>-0.543351</td>\n      <td>0.084153</td>\n      <td>-0.114631</td>\n      <td>-0.245489</td>\n      <td>-0.182333</td>\n      <td>-0.082853</td>\n      <td>-0.074115</td>\n      <td>0.125722</td>\n      <td>-0.098013</td>\n      <td>-0.064746</td>\n      <td>0.137143</td>\n      <td>-1.000000</td>\n      <td>1.000000</td>\n    </tr>\n  </tbody>\n</table>\n</div>"
          },
          "metadata": {}
        }
      ]
    },
    {
      "metadata": {
        "_uuid": "6595c4aa43ded1f7de9fc859425c5baf55ded9ba"
      },
      "cell_type": "markdown",
      "source": "# Split out training and test data"
    },
    {
      "metadata": {
        "trusted": true,
        "_uuid": "06d5a7ba39d1cfcd07d8cb13f33f81516551547f"
      },
      "cell_type": "code",
      "source": "data = df2.drop(columns='survived')\ntarget = df['survived']\ndata_train, data_test, target_train, target_test = train_test_split(data, target, test_size=0.2, random_state=0)",
      "execution_count": 3,
      "outputs": []
    },
    {
      "metadata": {
        "_uuid": "5561360b45e40f4a997f3970046b9f7d95a4ed4d"
      },
      "cell_type": "markdown",
      "source": "# Train decision tree model\nRan into initial issue with blank values...\nDoes Sklearn use a arrays vs dataframes??? Saw that there is sklearn_pandas? or numpy? What is the difference?\nhttps://stackabuse.com/decision-trees-in-python-with-scikit-learn/"
    },
    {
      "metadata": {
        "trusted": true,
        "_uuid": "1f269b91f385bed318188849ee932976763e3e1f",
        "scrolled": true
      },
      "cell_type": "code",
      "source": "model = DecisionTreeClassifier()\nmodel.fit(data_train, target_train)\ntarget_predict = model.predict(data_test)\n\nprint(confusion_matrix(target_test,target_predict))\nprint(classification_report(target_test, target_predict))\n",
      "execution_count": 4,
      "outputs": [
        {
          "output_type": "stream",
          "text": "[[93 17]\n [23 46]]\n              precision    recall  f1-score   support\n\n           0       0.80      0.85      0.82       110\n           1       0.73      0.67      0.70        69\n\n   micro avg       0.78      0.78      0.78       179\n   macro avg       0.77      0.76      0.76       179\nweighted avg       0.77      0.78      0.77       179\n\n",
          "name": "stdout"
        }
      ]
    },
    {
      "metadata": {
        "_uuid": "168832be6d5da098ad6d920fd3d1f0df32aadced"
      },
      "cell_type": "markdown",
      "source": "# K-folds\nhttps://stackoverflow.com/questions/47257952/how-to-get-average-score-of-k-fold-cross-validation-with-sklearn\n"
    },
    {
      "metadata": {
        "trusted": true,
        "scrolled": true,
        "_uuid": "0d277f4dc49716d06778df0c3775473745d8e2e8"
      },
      "cell_type": "code",
      "source": "from sklearn.model_selection import KFold\ndata2 = data_train.values\ntarget2 = target_train.values\nkf = KFold(n_splits=10)\nbettermodel = DecisionTreeClassifier()\nfor train_index, test_index in kf.split(data2):\n    data2_train, data2_test = data2[train_index], data2[test_index]\n    target2_train, target2_test = target2[train_index], target2[test_index]\n    bettermodel.fit(data2_train, target2_train)",
      "execution_count": 5,
      "outputs": []
    },
    {
      "metadata": {
        "_uuid": "2ef3b28d8af0c213f9e0f405e2706556772fb256"
      },
      "cell_type": "markdown",
      "source": "# BetterModel Performance"
    },
    {
      "metadata": {
        "trusted": true,
        "_uuid": "247b15847e66ed992fbc2005c4f24c1d8582a9d1"
      },
      "cell_type": "code",
      "source": "print(confusion_matrix(target_test, bettermodel.predict(data_test)))\nprint(classification_report(target_test,bettermodel.predict(data_test))) ",
      "execution_count": 6,
      "outputs": [
        {
          "output_type": "stream",
          "text": "[[94 16]\n [23 46]]\n              precision    recall  f1-score   support\n\n           0       0.80      0.85      0.83       110\n           1       0.74      0.67      0.70        69\n\n   micro avg       0.78      0.78      0.78       179\n   macro avg       0.77      0.76      0.77       179\nweighted avg       0.78      0.78      0.78       179\n\n",
          "name": "stdout"
        }
      ]
    },
    {
      "metadata": {
        "trusted": true,
        "_uuid": "e192daf1e70c3a7b1ceb4dba61c0128a7992c16d"
      },
      "cell_type": "code",
      "source": "from sklearn.metrics import roc_curve, auc\nfpr, tpr, thresholds = roc_curve(target_test, bettermodel.predict(data_test))\nroc_auc = auc(fpr, tpr)\nplt.figure()\nplt.plot(fpr, tpr, color='darkorange', lw=1, label='ROC curve (area = %0.2f)' % roc_auc)\n#plt.plot([0, 1], [0, 1], color='navy', lw=lw, linestyle='--')\nplt.xlim([0.0, 1.0])\nplt.ylim([0.0, 1.05])\nplt.xlabel('False Positive Rate')\nplt.ylabel('True Positive Rate')\nplt.title('Receiver operating characteristic')\nplt.legend(loc=\"lower right\")\nplt.show()",
      "execution_count": 7,
      "outputs": [
        {
          "output_type": "display_data",
          "data": {
            "text/plain": "<Figure size 432x288 with 1 Axes>",
            "image/png": "[encoded data removed]"
          },
          "metadata": {
            "needs_background": "light"
          }
        }
      ]
    },
    {
      "metadata": {
        "trusted": true,
        "_uuid": "d8784a860250226fd93de17479faaee6b483f408"
      },
      "cell_type": "code",
      "source": "dot_data = tree.export_graphviz(bettermodel, out_file=None)\ngraph = graphviz.Source(dot_data)\ngraph",
      "execution_count": null,
      "outputs": []
    },
    {
      "metadata": {
        "trusted": true,
        "_uuid": "3e3be0abd1b8040a87694e3549d77a7aaa001922",
        "scrolled": true
      },
      "cell_type": "code",
      "source": "##Gender\n#gender = df.pivot(index='passengerid', columns='sex', values='sex')\n#df2 = df.join(gender, on=\"passengerid\")\n#df2.female.replace(\"female\", 1,  inplace=True)\n#df2.female.fillna(0, inplace=True)\n#df2.male.replace(\"male\", 1,  inplace=True)\n#df2.male.fillna(0, inplace=True)\n\n\n#Embarked Location\n# Data Key: C = Cherbourg, Q = Queenstown, S = Southampton\n#df.embarked.fillna('Unknown', inplace=True)\n#embarked = df.pivot(index='passengerid', columns='embarked', values='embarked')\n#embarked.C.replace('C', 1, inplace=True)\n#embarked.C.fillna(0, inplace=True)\n#embarked.Q.replace('Q', 1, inplace=True)\n#embarked.Q.fillna(0, inplace=True)\n#embarked.S.replace('S', 1, inplace=True)\n#embarked.S.fillna(0, inplace=True)\n#embarked.Unknown.replace('Unknown', 1, inplace=True)\n#embarked.Unknown.fillna(0, inplace=True)\n#embarked = embarked.rename(columns = {'C':'Cherbourg', 'Q': 'Queenstown', 'S': 'Southampton'})\n#df2 = df2.join(embarked, on='passengerid')\n\n\n#Remove Columns\n#df2.drop(columns=['name', 'ticket', 'sex', 'embarked', 'passengerid', 'cabin'], inplace=True)\n\n#df2.corr()\n\n#df2\n",
      "execution_count": null,
      "outputs": []
    },
    {
      "metadata": {
        "trusted": true,
        "collapsed": true,
        "_uuid": "75cb04cba4bf030dd94f6c2eb635eabd76526333"
      },
      "cell_type": "code",
      "source": "",
      "execution_count": null,
      "outputs": []
    }
  ],
  "metadata": {
    "kernelspec": {
      "display_name": "Python 3",
      "language": "python",
      "name": "python3"
    },
    "language_info": {
      "name": "python",
      "version": "3.6.6",
      "mimetype": "text/x-python",
      "codemirror_mode": {
        "name": "ipython",
        "version": 3
      },
      "pygments_lexer": "ipython3",
      "nbconvert_exporter": "python",
      "file_extension": ".py"
    }
  },
  "nbformat": 4,
  "nbformat_minor": 1
}
